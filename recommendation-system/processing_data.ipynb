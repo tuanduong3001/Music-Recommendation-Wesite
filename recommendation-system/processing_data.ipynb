{
 "cells": [
  {
   "cell_type": "code",
   "execution_count": 1,
   "id": "a1440408-b658-43e3-b6da-8b7ff0d1ef42",
   "metadata": {
    "tags": []
   },
   "outputs": [],
   "source": [
    "import os \n",
    "import pandas as pd \n",
    "import numpy as np"
   ]
  },
  {
   "cell_type": "code",
   "execution_count": 2,
   "id": "775fec51-8722-420d-803e-a3114955805e",
   "metadata": {
    "tags": []
   },
   "outputs": [],
   "source": [
    "import librosa"
   ]
  },
  {
   "cell_type": "code",
   "execution_count": 3,
   "id": "6f2927e6-dbee-4522-b99f-fd9eff18939d",
   "metadata": {
    "tags": []
   },
   "outputs": [],
   "source": [
    "def list_sample(dir):\n",
    "    samples_dir, label= [], []\n",
    "    for i in os.listdir(dir): \n",
    "        for j in os.listdir(os.path.join(dir, i)): \n",
    "            samples_dir.append(os.path.join(dir, i + f'/{j}'))\n",
    "            label.append(i)\n",
    "    return samples_dir, label"
   ]
  },
  {
   "cell_type": "code",
   "execution_count": 14,
   "id": "13650deb-7262-41c1-92e7-5ed5a431b4a4",
   "metadata": {
    "tags": []
   },
   "outputs": [],
   "source": [
    "samples_dir, label= list_sample('genres_original/')"
   ]
  },
  {
   "cell_type": "code",
   "execution_count": 15,
   "id": "3c035e56-c74e-4310-b480-b1a0ba73bcc6",
   "metadata": {
    "tags": []
   },
   "outputs": [],
   "source": [
    "df = pd.DataFrame()\n",
    "df['dir'] = samples_dir\n",
    "df['label']= label"
   ]
  },
  {
   "cell_type": "code",
   "execution_count": 3,
   "id": "db1bb858-d3a4-4222-971d-adad23c30dfd",
   "metadata": {
    "tags": []
   },
   "outputs": [],
   "source": [
    "genres = {'metal': 0, 'disco': 1, 'classical': 2, 'hiphop': 3, 'jazz': 4, \n",
    "          'country': 5, 'pop': 6, 'blues': 7, 'reggae': 8, 'rock': 9}"
   ]
  },
  {
   "cell_type": "code",
   "execution_count": 44,
   "id": "2673a647-3dc3-430b-a8bc-4ed3d3447d7e",
   "metadata": {
    "tags": []
   },
   "outputs": [],
   "source": [
    "signal, sr= librosa.load('Shut Down.mp3')"
   ]
  },
  {
   "cell_type": "code",
   "execution_count": null,
   "id": "5e42448d",
   "metadata": {},
   "outputs": [],
   "source": [
    "import numpy as np\n",
    "\n",
    "def normalize(x):\n",
    "    \"\"\"Normalize a matrix x to have values between 0 and 1\"\"\"\n",
    "    x_min = np.min(x)\n",
    "    x_max = np.max(x)\n",
    "    x_norm = (x - x_min) / (x_max - x_min)\n",
    "    return x_norm"
   ]
  },
  {
   "cell_type": "code",
   "execution_count": 4,
   "id": "fcfdecca-4c77-4724-a89c-0ea41db1d1d2",
   "metadata": {
    "tags": []
   },
   "outputs": [],
   "source": [
    "def preprocessing(dir, sr= 44100):\n",
    "    df= pd.read_csv(dir)\n",
    "    \n",
    "    frame_length= int(sr * 0.3)\n",
    "    hop_length= int(frame_length * 0.5) \n",
    "    \n",
    "    arr_specs = []\n",
    "    arr_genres = []\n",
    "    \n",
    "    for i in range(df.shape[0]): \n",
    "        try:\n",
    "            samples, sr= librosa.load(df.loc[i, 'dir'], sr= sr)\n",
    "            mel= librosa.feature.melspectrogram(y= samples, sr= sr, n_mels= 128)\n",
    "            mel= librosa.amplitude_to_db(mel)\n",
    "            mel= normalize(mel)\n",
    "\n",
    "            feature= librosa.util.frame(mel, frame_length= 128, hop_length= 64).T\n",
    "            \n",
    "            arr_specs.append(feature)\n",
    "            arr_genres.append([genres[df.loc[i, 'label']]] * feature.shape[0])\n",
    "        except:\n",
    "            print(f'File {df.loc[i, \"dir\"]} error!!')\n",
    "    return arr_specs, arr_genres"
   ]
  },
  {
   "cell_type": "code",
   "execution_count": 5,
   "id": "2efefaa2-102d-41c1-bdea-b431c3fdd049",
   "metadata": {
    "tags": []
   },
   "outputs": [
    {
     "name": "stderr",
     "output_type": "stream",
     "text": [
      "C:\\Users\\Admin\\AppData\\Local\\Temp\\ipykernel_11996\\60078141.py:12: UserWarning: PySoundFile failed. Trying audioread instead.\n",
      "  signal, sr= librosa.load(df.loc[i, 'dir'], sr= sr)\n",
      "C:\\Users\\Admin\\anaconda3\\envs\\torch\\lib\\site-packages\\librosa\\core\\audio.py:184: FutureWarning: librosa.core.audio.__audioread_load\n",
      "\tDeprecated as of librosa version 0.10.0.\n",
      "\tIt will be removed in librosa version 1.0.\n",
      "  y, sr_native = __audioread_load(path, offset, duration, dtype)\n"
     ]
    },
    {
     "name": "stdout",
     "output_type": "stream",
     "text": [
      "File genres_original/jazz/jazz.00054.wav error!!\n"
     ]
    }
   ],
   "source": [
    "X, Y= preprocessing('dir_samples.csv', sr= 44100)"
   ]
  },
  {
   "cell_type": "code",
   "execution_count": 32,
   "id": "92727cce-ec7b-4bd6-b3bd-81fc24ac5727",
   "metadata": {
    "tags": []
   },
   "outputs": [],
   "source": [
    "np.concatenate(X).shape , np.concatenate(Y).shape"
   ]
  },
  {
   "cell_type": "code",
   "execution_count": 37,
   "id": "37cd878e-be96-4ccf-af59-01f504943ced",
   "metadata": {
    "tags": []
   },
   "outputs": [],
   "source": [
    "np.save('x_gtzan.npy', np.concatenate(X))\n",
    "np.save('y_gtzan.npy', np.concatenate(Y))"
   ]
  }
 ],
 "metadata": {
  "kernelspec": {
   "display_name": "Python 3 (ipykernel)",
   "language": "python",
   "name": "python3"
  },
  "language_info": {
   "codemirror_mode": {
    "name": "ipython",
    "version": 3
   },
   "file_extension": ".py",
   "mimetype": "text/x-python",
   "name": "python",
   "nbconvert_exporter": "python",
   "pygments_lexer": "ipython3",
   "version": "3.9.0"
  }
 },
 "nbformat": 4,
 "nbformat_minor": 5
}
